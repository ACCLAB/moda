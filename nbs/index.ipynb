{
 "cells": [
  {
   "cell_type": "raw",
   "metadata": {},
   "source": [
    "---\n",
    "description: A data analysis tutorial for biomedical scientists. version 23.2\n",
    "output-file: index.html\n",
    "title: Modern Data Analysis\n",
    "\n",
    "---\n",
    "\n"
   ]
  },
  {
   "cell_type": "markdown",
   "metadata": {},
   "source": [
    "**Part of GMS6812 2022: Foundations of Precision Medicine hands-on workshops (PhD programme in Clinical and Translational Sciences)**\n",
    "\n",
    "__________________________\n",
    "\n",
    "9am - 1pm, Febuary 14, 2023\n",
    "\n",
    "Duke-NUS Medical School"
   ]
  },
  {
   "cell_type": "markdown",
   "metadata": {},
   "source": [
    "The goal of this class is to introduce biomedical scientists to data analysis with Python notebooks. There are two parts to the session: a lecture on the key issues in data analysis and a hands-on tutorial. Please do the following preparations before class.\n",
    "\n",
    "1. Read the [Introduction](introduction.html) and install the prerequisite software on your laptop.\n",
    "2. Go through a [Quick Tour of the Notebook](quick_tour_of_the_notebook.html) to familiarise yoruself to the jupyter notebook environment.\n",
    "3. Bring your laptop to class, and we will go through the examples in [Data Analysis with Jupyter](data_analysis_with_jupyter_and_python.html)\n",
    "\n",
    "If we have more time in class, you will also be introduced to our estimation statistics package [DABEST Introduction](dabest_introduction.html)\n"
   ]
  },
  {
   "cell_type": "code",
   "execution_count": null,
   "metadata": {},
   "outputs": [],
   "source": []
  }
 ],
 "metadata": {
  "kernelspec": {
   "display_name": "Python 3 (ipykernel)",
   "language": "python",
   "name": "python3"
  }
 },
 "nbformat": 4,
 "nbformat_minor": 4
}
