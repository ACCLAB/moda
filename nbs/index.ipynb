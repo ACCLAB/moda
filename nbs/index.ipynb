{
 "cells": [
  {
   "cell_type": "raw",
   "metadata": {},
   "source": [
    "---\n",
    "description: A data analysis tutorial for biomedical scientists. Version 23.10.10\n",
    "output-file: index.html\n",
    "title: Modern Data Analysis\n",
    "\n",
    "---\n",
    "\n"
   ]
  },
  {
   "cell_type": "markdown",
   "metadata": {},
   "source": [
    "By [Sangyu\n",
    "Xu](https://xusangyu.com/), [Joses Ho](https://twitter.com/jacuzzijo), [Yishan Mai](https://twitter.com/myish_irl), and [Adam\n",
    "Claridge-Chang](http://www.claridgechang.net/)"
   ]
  },
  {
   "cell_type": "markdown",
   "metadata": {},
   "source": [
    "**This material is used in Duke-NUS Medical School classes:**\n",
    "* GMS6812: Foundations of Precision Medicine hands-on workshops for the  PhD programme in Clinical and Translational Sciences.\n",
    "* IBM Ethics and Personal and Professional Development Session"
   ]
  },
  {
   "cell_type": "markdown",
   "metadata": {},
   "source": [
    "The goal of this class is to introduce biomedical scientists to data analysis with Python notebooks. There are two parts to the session: a lecture on the key issues in data analysis and a hands-on tutorial. Please do the following preparations before class.\n",
    "\n",
    "1. Read the [Introduction](introduction.html) and install the prerequisite software on your laptop.\n",
    "2. Go through a [Quick Tour of the Notebook](quick_tour_of_the_notebook.html) to familiarise yoruself to the jupyter notebook environment.\n",
    "3. Bring your laptop to class, and we will go through the examples in [Data Analysis with Jupyter](data_analysis_with_jupyter_and_python.html).\n",
    "\n",
    "If we have more time in class, you will also be introduced to our estimation statistics package [DABEST Introduction](dabest_introduction.html).\n",
    "\n",
    "If you have any questions about these materials, please contact `xusangyu at gmail.com`\n"
   ]
  },
  {
   "cell_type": "markdown",
   "metadata": {},
   "source": []
  }
 ],
 "metadata": {
  "kernelspec": {
   "display_name": "python3",
   "language": "python",
   "name": "python3"
  }
 },
 "nbformat": 4,
 "nbformat_minor": 4
}
