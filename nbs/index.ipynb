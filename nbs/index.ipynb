{
 "cells": [
  {
   "cell_type": "raw",
   "metadata": {},
   "source": [
    "---\n",
    "description: Third attempt to set up repo for nbdev version of the Modern Data Analysis\n",
    "  course\n",
    "output-file: index.html\n",
    "title: moda\n",
    "\n",
    "---\n",
    "\n"
   ]
  },
  {
   "cell_type": "markdown",
   "metadata": {},
   "source": [
    "# Modern Data Analysis "
   ]
  },
  {
   "cell_type": "markdown",
   "metadata": {},
   "source": [
    "[Joses Ho](https://twitter.com/jacuzzijo), [Sangyu\n",
    "Xu](https://xusangyu.com/), and [Adam\n",
    "Claridge-Chang](http://www.claridgechang.net/)"
   ]
  },
  {
   "cell_type": "markdown",
   "metadata": {},
   "source": [
    "This project is a tutorial for introducing biomedical scientists to data analysis with Python notebooks."
   ]
  },
  {
   "cell_type": "markdown",
   "metadata": {},
   "source": [
    "[Introduction](https://github.com/sangyu/moda/blob/main/nbs/01_Introduction.ipynb)\n",
    "An introduction to the course and prerequisites. \n",
    "\n",
    "[Quick Tour of the Notebook](https://github.com/sangyu/moda/blob/main/nbs/02_Quick_tour_of_the_Notebook.ipynb)\n",
    "\n",
    "\n",
    "[Data Analysis with Jupyter](http://localhost:8890/notebooks/nbs/03_Data_Analysis_with_Jupyter.ipynb)\n",
    "\n",
    "[DABEST Introduction](https://github.com/sangyu/moda/blob/main/nbs/04_Dabest_introduction.ipynb)\n",
    "\n",
    "    "
   ]
  },
  {
   "cell_type": "code",
   "execution_count": null,
   "metadata": {},
   "outputs": [],
   "source": []
  }
 ],
 "metadata": {
  "kernelspec": {
   "display_name": "Python 3 (ipykernel)",
   "language": "python",
   "name": "python3"
  }
 },
 "nbformat": 4,
 "nbformat_minor": 4
}
