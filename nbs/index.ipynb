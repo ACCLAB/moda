{
 "cells": [
  {
   "cell_type": "raw",
   "metadata": {},
   "source": [
    "---\n",
    "description: A data analysis tutorial for biomedical scientists. Version 2025-03-28\n",
    "output-file: index.html\n",
    "title: Modern Data Analysis\n",
    "\n",
    "---\n",
    "\n"
   ]
  },
  {
   "cell_type": "markdown",
   "metadata": {},
   "source": [
    "By [Sangyu\n",
    "Xu](https://xusangyu.com/), [Joses Ho](https://twitter.com/jacuzzijo), [Yishan Mai](https://twitter.com/myish_irl), and [Adam\n",
    "Claridge-Chang](http://www.claridgechang.net/)"
   ]
  },
  {
   "cell_type": "markdown",
   "metadata": {},
   "source": [
    "### Introducing biomedical scientists to data analysis with Python\n",
    "\n",
    "The goal of this class is to introduce biomedical scientists to data analysis with Python notebooks. Ideally, this should be a semester-long course. This 2-hour class is presented to two groups.\n",
    "\n",
    "* Duke-NUS PhD programme in Clinical and Translational Sciences. Foundations of Precision Medicine Hands-on Workshops (GMS6812).\n",
    "* Duke-NUS PhD programme in Integrated Biology and Medicine. Ethics and Personal and Professional Development Sessions."
   ]
  },
  {
   "cell_type": "markdown",
   "metadata": {},
   "source": [
    "### The class has the following steps\n",
    "\n",
    "1. **Preparation 1.** Read the [Introduction](introduction.html) and install the prerequisite software on your laptop.\n",
    "2. **Preparation 2.** Go through a [Quick Tour of the Notebook](quick_tour_of_the_notebook.html) to familiarise yoruself to the jupyter notebook environment.\n",
    "3. **Session Coding.** Bring your laptop to class, and we will go through the examples in [Data Analysis with Jupyter](data_analysis_with_jupyter_and_python.html).\n",
    "4. **Lecture.** Crash course on the history of and key issues in data visualization.\n",
    "5. **Short introduction to estimation and LLMs.** Introduction to estimation statistics [web app](https://www.estimationstats.com/#/) and [python package](dabest_introduction.html).\n",
    "6. **Continuing education.** Review the Additional Resources page to continue your self-education in data analysis.\n",
    "\n",
    "If you have any questions about these materials, please contact your course coordinator.\n"
   ]
  },
  {
   "cell_type": "markdown",
   "metadata": {},
   "source": []
  }
 ],
 "metadata": {
  "kernelspec": {
   "display_name": "moda_env",
   "language": "python",
   "name": "moda_env"
  }
 },
 "nbformat": 4,
 "nbformat_minor": 4
}
