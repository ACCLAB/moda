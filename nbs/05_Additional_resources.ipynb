{
 "cells": [
  {
   "cell_type": "raw",
   "id": "32b64810",
   "metadata": {},
   "source": [
    "---\n",
    "output-file: Additional.html\n",
    "title: 05. Additional resources\n",
    "\n",
    "---"
   ]
  },
  {
   "cell_type": "markdown",
   "id": "4dc195ef",
   "metadata": {},
   "source": [
    "## Additional resources and building your skills\n",
    "\n",
    "Try using the [estimationstats.com](https://www.estimationstats.com/#/) web app to analyze your own grouped data.\n",
    "\n",
    "Open and have a look at the sample multivariate\n",
    "[data](https://docs.google.com/spreadsheets/d/1F0c5I_S9_NnLKPMQxJkEfzGfhzQeR26SgkiHSTFwKDE/edit?usp=sharing).\n",
    "Go through the [introductory\n",
    "notebook](https://drive.google.com/file/d/1m_l4k5ZaUc03hpvcfBd_Riy2nXYDpFXg/view?usp=sharing)\n",
    "that demonstrates data analysis.\n",
    "\n",
    "We recommend the following texts to strengthen your data-analysis and\n",
    "presentation skills. They can be dipped into over the coming months or\n",
    "years, and used as references. Being familiar with some or all of this\n",
    "material will help you write your first-author paper/s and doctoral\n",
    "thesis.\n",
    "\n",
    "### *Key resources*\n",
    "\n",
    "-   Estimation: Our\n",
    "    [estimationstats.com](https://www.estimationstats.com/#/background)\n",
    "    site has introductory information on estimation and specific types\n",
    "    of\n",
    "    [analyses](https://www.estimationstats.com/#/user-guide/two-independent-groups)\n",
    "    and [effect\n",
    "    sizes](https://www.estimationstats.com/#/about-effect-sizes).\n",
    "\n",
    "-   Datavis: Claus Wilke’s free online\n",
    "    [book](https://clauswilke.com/dataviz/index.html) is a great\n",
    "    introduction to data visualization, and a style guide. It is written\n",
    "    in R, which is the best language for statistics.\n",
    "\n",
    "-   Coding: There are many online resources to learn coding. Published\n",
    "    in 2021, [A Data-Centric Introduction to\n",
    "    Computing](https://dcic-world.org/) uses a Python-like teaching\n",
    "    language ([Pyret](https://www.pyret.org/)) to introduce key concepts\n",
    "    in computer science.\n",
    "\n",
    "### *Additional resources*\n",
    "\n",
    "#### *Some are free, some you will need to buy or borrow from the library.*\n",
    "\n",
    "-   Estimation: If you want to learn about estimation statistics in\n",
    "    greater depth, there is Calin-Jageman and Cumming’s\n",
    "    [textbook](http://thenewstatistics.com/itns/) that is well-written,\n",
    "    funny, and clear. The authors also run a\n",
    "    [blog](https://thenewstatistics.com/itns/).\n",
    "\n",
    "-   Estimation: Christoph Bernard’s account of the pioneering experience\n",
    "    of a major journal (*eNeuro*) recommending estimation as standard:\n",
    "    the [initial\n",
    "    announcement](https://www.eneuro.org/content/6/4/ENEURO.0259-19.2019),\n",
    "    [author\n",
    "    feedback](https://blog.eneuro.org/2021/02/discussion-est-stats-author-feedback),\n",
    "    and [after one\n",
    "    year](https://www.eneuro.org/content/8/2/ENEURO.0091-21.2021).\n",
    "\n",
    "-   Coding: The paid coding tutorial [Learn Python The Hard\n",
    "    Way](https://learncodethehardway.org/python/) has a good reputation,\n",
    "    but there are also many free options (see\n",
    "    [DCIC](https://dcic-world.org/) above) with great reviews.\n",
    "\n",
    "-   Coding: It will help to learn to use your computer’s\n",
    "    [Unix-style](https://youtu.be/tc4ROCJYbm0) command-line\n",
    "    [shell](https://en.wikipedia.org/wiki/Unix_shell). This interface\n",
    "    will allow you to use package managers like\n",
    "    [conda](https://docs.conda.io/en/latest/) and\n",
    "    [homebrew](https://brew.sh/), version-control tools like\n",
    "    [git](https://git-scm.com/), and other important tools. There are\n",
    "    many [books](https://www.linuxcommand.org/index.php) about the\n",
    "    shell, with only minor differences between MacOS,\n",
    "    [Windows](https://www.howtogeek.com/249966/how-to-install-and-use-the-linux-bash-shell-on-windows-10/),\n",
    "    and Linux.\n",
    "\n",
    "-   Datavis: A brief guide to oral–visual data presentations\n",
    "    ([talks](http://www.howtogiveatalk.com/)).\n",
    "\n",
    "-   Datavis: A reader-funded textbook on\n",
    "    [typography](http://practicaltypography.com/presentations.html),\n",
    "    including for slides. Since so much communication relies on text,\n",
    "    typography is an important part of the data interface.\n",
    "\n",
    "-   Datavis: For historical perspectives, Edward Tufte’s\n",
    "    [books](https://www.edwardtufte.com/tufte/) are classic texts to\n",
    "    develop your design skills, and there is Friendly and Wainer’s\n",
    "    [History of Data\n",
    "    Visualization](https://friendly.github.io/HistDataVis/).\n",
    "\n",
    "-   As you progress, you will want to develop your skills in areas like\n",
    "    bioinformatics, image processing, and/or machine learning. The iris\n",
    "    dataset is widely used for training in multivariate data analysis,\n",
    "    with many online tutorials.\n",
    "    \n",
    "-   The social reasons to learn programming also apply to programming for research."
   ]
  },
  {
   "cell_type": "code",
   "execution_count": null,
   "id": "acd30338-0dd6-4949-87cf-57d0844c239f",
   "metadata": {},
   "outputs": [
    {
     "data": {
      "text/html": [
       "<iframe width=\"600\" height=\"400\"\n",
       "src=\"https://www.youtube.com/embed/kgicuytCkoY\">\n",
       "</iframe>\n"
      ],
      "text/plain": [
       "<IPython.core.display.HTML object>"
      ]
     },
     "metadata": {},
     "output_type": "display_data"
    }
   ],
   "source": [
    "%%HTML\n",
    "<iframe width=\"600\" height=\"400\"\n",
    "src=\"https://www.youtube.com/embed/kgicuytCkoY\">\n",
    "</iframe>"
   ]
  },
  {
   "cell_type": "code",
   "execution_count": null,
   "id": "cef28733",
   "metadata": {},
   "outputs": [],
   "source": []
  }
 ],
 "metadata": {
  "kernelspec": {
   "display_name": "Python 3 (ipykernel)",
   "language": "python",
   "name": "python3"
  }
 },
 "nbformat": 4,
 "nbformat_minor": 5
}
