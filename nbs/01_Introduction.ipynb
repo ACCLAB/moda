{
 "cells": [
  {
   "cell_type": "raw",
   "id": "32b64810",
   "metadata": {},
   "source": [
    "---\n",
    "output-file: introduction.html\n",
    "title: 01. Modern Data Analysis - Introduction\n",
    "\n",
    "---"
   ]
  },
  {
   "cell_type": "markdown",
   "id": "955bbaf1-994f-4210-b8f5-a7cfc3c1757f",
   "metadata": {},
   "source": [
    "# 01. Modern Data Analysis - Introduction"
   ]
  },
  {
   "cell_type": "markdown",
   "id": "d7a08045",
   "metadata": {},
   "source": [
    "[Joses Ho](https://twitter.com/jacuzzijo), [Sangyu\n",
    "Xu](https://xusangyu.com/), and [Adam\n",
    "Claridge-Chang](http://www.claridgechang.net/)"
   ]
  },
  {
   "cell_type": "markdown",
   "id": "3e5aa939",
   "metadata": {},
   "source": [
    "As research techniques and data collection have become almost completely\n",
    "digital and analysis methods grow more sophisticated, it is critical\n",
    "that scientists develop three skills: data visualization, statistics,\n",
    "and coding. Unfortunately, many undergraduate biology programs emphasize\n",
    "the memorization of numerous facts, while failing to offer courses in\n",
    "data graphics, estimation statistics, or scientific programming. In this\n",
    "session, we offer a basic orientation on these topics."
   ]
  },
  {
   "cell_type": "markdown",
   "id": "b4903f41-5aff-4df6-a0cc-afc821d8869a",
   "metadata": {},
   "source": [
    "## Before class\n",
    "\n",
    "*If you encounter difficulties with the below steps, email Adam or a classmate for help. If any issues can’t be resolved, we can work on it in the class together.*\n",
    "\n",
    "Most of the work will be done before the class.\n",
    "\n",
    "1.  You'll need to get set up with a [version-control](https://en.wikipedia.org/wiki/Version_control) system. Go to [GitHub](https://github.com/) and get an account. Download and install [GitHub Desktop](https://desktop.github.com/).\n",
    "\n",
    "2.  Retrieve the course materials from GitHub. Go to the course repository (\"repo\") at https://github.com/ACCLAB/moda. Click the green <mark style=\"background-color: lightgreen\">Code</mark> button and then select <mark style=\"background-color: lightgray\">Open with GitHub Desktop</mark>.\n",
    "\n",
    "3.  To get set up with Python and [Jupyter](https://en.wikipedia.org/wiki/Project_Jupyter) notebooks, install the [Anaconda\n",
    "    Distribution](https://www.anaconda.com/download/) on your laptop."
   ]
  },
  {
   "cell_type": "markdown",
   "id": "666c283a-337a-4e42-a71d-da7a4b70f7ea",
   "metadata": {},
   "source": [
    "4.  Launch\n",
    "    [JupyterLab](https://jupyterlab.readthedocs.io/en/stable/user/interface.html). There are two ways to do this.\n",
    " - Open Anaconda Navigator, launch JupyterLab by clicking on it, *or…*\n",
    " - Start PowerShell (Windows) or Terminal (MacOS/Linux) and type `jupyter lab`. This written command translates into English as: “Launch the Lab version of the Jupyter application.”\n",
    "\n",
    "5.  Download this notebook file: [A Quick Tour of The\n",
    "    Notebook](https://drive.google.com/file/d/17_N5_zRva-hzHKr1g87SautWx0j-v0r0/view?usp=sharing).\n",
    "\n",
    "6.  In the File Browser panel in JupyterLab, navigate to the folder\n",
    "    where you are keeping the notebook file. Open it by double-clicking\n",
    "    on the icon shown in the JupyterLab browser window.\n",
    "\n",
    "7.  Work through the notebook. Familiarize yourself with basic Python,\n",
    "    and with working in the JupyterLab environment.\n",
    "\n",
    "8.  Read about [pandas](https://pandas.pydata.org/),\n",
    "    [matplotlib](https://matplotlib.org/), and\n",
    "    [seaborn](https://seaborn.pydata.org/).\n",
    "\n",
    "9.  Read our papers on estimation statistics\n",
    "    [here](https://zenodo.org/record/60156) and\n",
    "    [here](https://doi.org/10.1101/377978).\n"
   ]
  },
  {
   "cell_type": "markdown",
   "id": "dd726c2c",
   "metadata": {},
   "source": [
    "## In class\n",
    "\n",
    "10.  An overview of data analysis.\n",
    "\n",
    "11.  A tour of the estimationstats web app.\n",
    "\n",
    "12.  Presentation of a Jupyter\n",
    "    [notebook](https://drive.google.com/file/d/1o4Ou2fHY73l6Nb7MUp2GqwtrJbcQ80Ix/view?usp=sharing)\n",
    "    that introduces techniques in data analysis using Python.\n",
    "\n",
    "13.  Try JupyterLite, an experimental web version of JupyterLab, with a\n",
    "    class notebook\n",
    "    [here](https://sangyu.github.io/Evidence-Session/lab?path=Notebooks%2F01.+Data+Analysis+with+Jupyter+and+Python.ipynb)."
   ]
  },
  {
   "cell_type": "markdown",
   "id": "4dc195ef",
   "metadata": {},
   "source": [
    "## Further practice and resources\n",
    "\n",
    "Try using the [estimationstats.com](https://www.estimationstats.com/#/) web app to analyze your own grouped data.\n",
    "\n",
    "Open and have a look at the sample multivariate\n",
    "[data](https://docs.google.com/spreadsheets/d/1F0c5I_S9_NnLKPMQxJkEfzGfhzQeR26SgkiHSTFwKDE/edit?usp=sharing).\n",
    "Go through the [introductory\n",
    "notebook](https://drive.google.com/file/d/1m_l4k5ZaUc03hpvcfBd_Riy2nXYDpFXg/view?usp=sharing)\n",
    "that demonstrates data analysis.\n",
    "\n",
    "We recommend the following texts to strengthen your data-analysis and\n",
    "presentation skills. They can be dipped into over the coming months or\n",
    "years, and used as references. Being familiar with some or all of this\n",
    "material will help you write your first-author paper/s and doctoral\n",
    "thesis.\n",
    "\n",
    "### *Key resources*\n",
    "\n",
    "-   Estimation: Our\n",
    "    [estimationstats.com](https://www.estimationstats.com/#/background)\n",
    "    site has introductory information on estimation and specific types\n",
    "    of\n",
    "    [analyses](https://www.estimationstats.com/#/user-guide/two-independent-groups)\n",
    "    and [effect\n",
    "    sizes](https://www.estimationstats.com/#/about-effect-sizes).\n",
    "\n",
    "-   Datavis: Claus Wilke’s free online\n",
    "    [book](https://clauswilke.com/dataviz/index.html) is a great\n",
    "    introduction to data visualization, and a style guide. It is written\n",
    "    in R, which is the best language for statistics.\n",
    "\n",
    "-   Coding: There are many online resources to learn coding. Published\n",
    "    in 2021, [A Data-Centric Introduction to\n",
    "    Computing](https://dcic-world.org/) uses a Python-like teaching\n",
    "    language ([Pyret](https://www.pyret.org/)) to introduce key concepts\n",
    "    in computer science.\n",
    "\n",
    "### *Additional resources*\n",
    "\n",
    "#### *Some are free, some you will need to buy or borrow from the library.*\n",
    "\n",
    "-   Estimation: If you want to learn about estimation statistics in\n",
    "    greater depth, there is Calin-Jageman and Cumming’s\n",
    "    [textbook](http://thenewstatistics.com/itns/) that is well-written,\n",
    "    funny, and clear. The authors also run a\n",
    "    [blog](https://thenewstatistics.com/itns/).\n",
    "\n",
    "-   Estimation: Christoph Bernard’s account of the pioneering experience\n",
    "    of a major journal (*eNeuro*) recommending estimation as standard:\n",
    "    the [initial\n",
    "    announcement](https://www.eneuro.org/content/6/4/ENEURO.0259-19.2019),\n",
    "    [author\n",
    "    feedback](https://blog.eneuro.org/2021/02/discussion-est-stats-author-feedback),\n",
    "    and [after one\n",
    "    year](https://www.eneuro.org/content/8/2/ENEURO.0091-21.2021).\n",
    "\n",
    "-   Coding: The paid coding tutorial [Learn Python The Hard\n",
    "    Way](https://learncodethehardway.org/python/) has a good reputation,\n",
    "    but there are also many free options (see\n",
    "    [DCIC](https://dcic-world.org/) above) with great reviews.\n",
    "\n",
    "-   Coding: It will help to learn to use your computer’s\n",
    "    [Unix-style](https://youtu.be/tc4ROCJYbm0) command-line\n",
    "    [shell](https://en.wikipedia.org/wiki/Unix_shell). This interface\n",
    "    will allow you to use package managers like\n",
    "    [conda](https://docs.conda.io/en/latest/) and\n",
    "    [homebrew](https://brew.sh/), version-control tools like\n",
    "    [git](https://git-scm.com/), and other important tools. There are\n",
    "    many [books](https://www.linuxcommand.org/index.php) about the\n",
    "    shell, with only minor differences between MacOS,\n",
    "    [Windows](https://www.howtogeek.com/249966/how-to-install-and-use-the-linux-bash-shell-on-windows-10/),\n",
    "    and Linux.\n",
    "\n",
    "-   Datavis: A brief guide to oral–visual data presentations\n",
    "    ([talks](http://www.howtogiveatalk.com/)).\n",
    "\n",
    "-   Datavis: A reader-funded textbook on\n",
    "    [typography](http://practicaltypography.com/presentations.html),\n",
    "    including for slides. Since so much communication relies on text,\n",
    "    typography is an important part of the data interface.\n",
    "\n",
    "-   Datavis: For historical perspectives, Edward Tufte’s\n",
    "    [books](https://www.edwardtufte.com/tufte/) are classic texts to\n",
    "    develop your design skills, and there is Friendly and Wainer’s\n",
    "    [History of Data\n",
    "    Visualization](https://friendly.github.io/HistDataVis/).\n",
    "\n",
    "-   As you progress, you will want to develop your skills in areas like\n",
    "    bioinformatics, image processing, and/or machine learning. The iris\n",
    "    dataset is widely used for training in multivariate data analysis,\n",
    "    with many online tutorials."
   ]
  },
  {
   "cell_type": "code",
   "execution_count": null,
   "id": "2df926e4",
   "metadata": {},
   "outputs": [
    {
     "data": {
      "text/html": [
       "The social reasons to learn programming also apply to research programming.\n",
       "<iframe width=\"600\" height=\"400\"\n",
       "src=\"https://www.youtube.com/embed/kgicuytCkoY\"\n",
       "</iframe>\n"
      ],
      "text/plain": [
       "<IPython.core.display.HTML object>"
      ]
     },
     "metadata": {},
     "output_type": "display_data"
    }
   ],
   "source": [
    "%%HTML\n",
    "The social reasons to learn programming also apply to research programming.\n",
    "<iframe width=\"600\" height=\"400\"\n",
    "src=\"https://www.youtube.com/embed/kgicuytCkoY\"\n",
    "</iframe>"
   ]
  },
  {
   "cell_type": "code",
   "execution_count": null,
   "id": "3d2dbe91-0f99-4047-9d62-ba7052867fa2",
   "metadata": {},
   "outputs": [],
   "source": []
  }
 ],
 "metadata": {
  "kernelspec": {
   "display_name": "Python 3 (ipykernel)",
   "language": "python",
   "name": "python3"
  }
 },
 "nbformat": 4,
 "nbformat_minor": 5
}
