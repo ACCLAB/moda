{
 "cells": [
  {
   "cell_type": "raw",
   "id": "32b64810",
   "metadata": {},
   "source": [
    "---\n",
    "output-file: introduction.html\n",
    "title: 01. Introduction\n",
    "date-modified: \"2025-03-28\"\n",
    "#date: \"2022-10-15\"\n",
    "#author: \"Sangyu Xu, Adam Claridge-Chang\"\n",
    "\n",
    "---"
   ]
  },
  {
   "cell_type": "markdown",
   "id": "3e5aa939",
   "metadata": {},
   "source": [
    "As research techniques and data collection have become almost completely\n",
    "digital and analysis methods grow more sophisticated, it is critical\n",
    "that scientists develop three skills: data visualization, statistics,\n",
    "and coding. Unfortunately, many undergraduate biology programs emphasize\n",
    "the memorization of numerous facts, while failing to offer courses in\n",
    "data graphics, estimation statistics, or scientific programming. In this\n",
    "session, we offer a basic orientation on these topics."
   ]
  },
  {
   "cell_type": "code",
   "execution_count": null,
   "id": "19964860-2836-43b1-963e-063dfe336287",
   "metadata": {},
   "outputs": [
    {
     "data": {
      "text/html": [
       "<iframe width=\"600\" height=\"400\"\n",
       "src=\"https://www.youtube.com/embed/kgicuytCkoY\">\n",
       "</iframe>\n"
      ],
      "text/plain": [
       "<IPython.core.display.HTML object>"
      ]
     },
     "metadata": {},
     "output_type": "display_data"
    }
   ],
   "source": [
    "%%HTML\n",
    "<iframe width=\"600\" height=\"400\"\n",
    "src=\"https://www.youtube.com/embed/kgicuytCkoY\">\n",
    "</iframe>"
   ]
  },
  {
   "cell_type": "markdown",
   "id": "b4903f41-5aff-4df6-a0cc-afc821d8869a",
   "metadata": {},
   "source": [
    "## Before class\n",
    "\n",
    "*If any issues can’t be resolved with the below steps, we can work on it in the class together.*\n",
    "\n",
    "### Getting the necessary software\n",
    "1.  You'll need to get set up with a [version-control](https://en.wikipedia.org/wiki/Version_control) system. Go to [GitHub](https://github.com/) and get an account. Download and install [GitHub Desktop](https://desktop.github.com/).\n",
    "\n",
    "2.  Retrieve the course materials from GitHub. Go to the course repository (\"repo\") at https://github.com/ACCLAB/moda. Click the green <mark style=\"background-color: lightgreen\">Code</mark> button and then select <mark style=\"background-color: lightgray\">Open with GitHub Desktop</mark>.<img src=\"images/clonemoda.png\" alt=\"clonemoda.png\" width=\"600\"/> <br>You will be prompted to select a directory for the local repository. If you are using a PC it can be something like this: <br><img src=\"images/clonedir.png\" alt=\"clonedir.png\" width=\"500\"/> <br>If you are using a mac, it can be something like `//Users/YOURUSERNAME/Documents/GitHub/moda`.\n",
    "\n",
    "3.  To get set up with Python and [Jupyter](https://en.wikipedia.org/wiki/Project_Jupyter) notebooks, install the [Anaconda\n",
    "    Distribution](https://www.anaconda.com/download/) on your laptop.\n",
    "\n",
    "4.  Open Anaconda Navigator and open a terminal window by clicking on `Environments` > `base (root)`, and then clicking on the green triangle and select `Open Terminal`.\n",
    "\n",
    "<img src=\"images/openterminal.png\" alt=\"openterminal.png\" width=\"600\"/> <br>\n",
    "\n",
    "5.  Go to your moda directory (replace the path with your own actual path) and install it with pip:<br>\n",
    "   `cd Documents/GitHub/moda`<br>\n",
    "    `pip install .`<br>"
   ]
  },
  {
   "cell_type": "markdown",
   "id": "666c283a-337a-4e42-a71d-da7a4b70f7ea",
   "metadata": {},
   "source": [
    "### Checking out the notebooks\n",
    "6.  launch [JupyterLab](https://jupyterlab.readthedocs.io/en/stable/user/interface.html) by clicking on it.\n",
    "\n",
    "<img src=\"images/launchjupyterlab.png\" alt=\"launchjupyterlab.png\" width=\"600\"/> <br>JupyterLab will open in a browser tab.\n",
    "\n",
    "7.  In the File Browser panel in JupyterLab, navigate to the folder where you cloned the course repo (refer to step 2). Double click on 'nbs'. You should see a list of notebook files. Open \"02_Quick_tour_of_the_Notebook.ipynb\" by double-clicking on the icon shown in the JupyterLab browser window.\n",
    "<img src=\"images/opennotebook.png\" alt=\"opennotebook.png\" width=\"600\"/>\n",
    "\n",
    "8.  Work through the notebook. Familiarize yourself with basic Python,\n",
    "    and with working in the JupyterLab environment.\n",
    "\n"
   ]
  },
  {
   "cell_type": "markdown",
   "id": "6929841a-d49f-4f08-99dc-c05d9b919d6e",
   "metadata": {},
   "source": [
    "### Reading about the python packages we will use\n",
    "9.  Read about [pandas](https://pandas.pydata.org/),\n",
    "    [matplotlib](https://matplotlib.org/), and\n",
    "    [seaborn](https://seaborn.pydata.org/).\n",
    "\n",
    "10.  Read our papers on estimation statistics\n",
    "    [here](https://zenodo.org/record/60156) and\n",
    "    [here](https://doi.org/10.1101/377978).\n"
   ]
  },
  {
   "cell_type": "markdown",
   "id": "dd726c2c",
   "metadata": {},
   "source": [
    "## In class\n",
    "\n",
    "10.  An overview of data analysis.\n",
    "\n",
    "11.  A tour of the estimationstats web app.\n",
    "\n",
    "12.  Presentation of a Jupyter\n",
    "    [notebook](https://drive.google.com/file/d/1o4Ou2fHY73l6Nb7MUp2GqwtrJbcQ80Ix/view?usp=sharing)\n",
    "    that introduces techniques in data analysis using Python.\n",
    "\n",
    "13.  Try JupyterLite, an experimental web version of JupyterLab, with a\n",
    "    class notebook\n",
    "    [here](https://sangyu.github.io/Evidence-Session/lab?path=Notebooks%2F01.+Data+Analysis+with+Jupyter+and+Python.ipynb)."
   ]
  },
  {
   "cell_type": "code",
   "execution_count": null,
   "id": "529fd030-8a95-45c2-abe8-c0d3eba29bc3",
   "metadata": {},
   "outputs": [],
   "source": []
  }
 ],
 "metadata": {
  "kernelspec": {
   "display_name": "python3",
   "language": "python",
   "name": "python3"
  }
 },
 "nbformat": 4,
 "nbformat_minor": 5
}
